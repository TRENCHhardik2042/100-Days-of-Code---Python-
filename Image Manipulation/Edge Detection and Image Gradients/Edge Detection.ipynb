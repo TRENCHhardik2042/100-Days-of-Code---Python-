{
 "cells": [
  {
   "cell_type": "code",
   "execution_count": 1,
   "id": "b420cfd9",
   "metadata": {},
   "outputs": [],
   "source": [
    "import cv2\n",
    "import numpy as np"
   ]
  },
  {
   "cell_type": "code",
   "execution_count": 4,
   "id": "f4cea902",
   "metadata": {},
   "outputs": [],
   "source": [
    "image = cv2.imread('sample.png',0)\n",
    "\n",
    "height, width = image.shape\n"
   ]
  },
  {
   "cell_type": "code",
   "execution_count": 6,
   "id": "b74e83c0",
   "metadata": {},
   "outputs": [],
   "source": [
    "# Extract Sobel\n",
    "\n",
    "sboel_x = cv2.Sobel(image, cv2.CV_64F, 0,1,ksize=5)\n",
    "sboel_y = cv2.Sobel(image, cv2.CV_64F, 1,0,ksize=5)\n",
    "\n",
    "cv2.imshow('Orignal Image',image)\n",
    "cv2.imshow('Sobel-X',sboel_x)\n",
    "cv2.imshow('Sobel-Y',sboel_y)\n",
    "\n",
    "sobel_OR = cv2.bitwise_or(sboel_x,sboel_y)\n",
    "cv2.imshow('Sobel',sobel_OR)\n",
    "\n",
    "cv2.waitKey(0)\n",
    "\n",
    "\n",
    "# Laplacian\n",
    "\n",
    "Lap = cv2.Laplacian(image, cv2.CV_64F)\n",
    "cv2.imshow('Laplacian', Lap)\n",
    "cv2.waitKey(0)"
   ]
  },
  {
   "cell_type": "code",
   "execution_count": 11,
   "id": "ce8833b9",
   "metadata": {},
   "outputs": [],
   "source": [
    "#Canny\n",
    "\n",
    "can = cv2.Canny(image, 30,170)\n",
    "cv2.imshow('Canny', can)\n",
    "cv2.waitKey(0)\n",
    "cv2.destroyAllWindows()"
   ]
  },
  {
   "cell_type": "code",
   "execution_count": null,
   "id": "2d9ba1a3",
   "metadata": {},
   "outputs": [],
   "source": []
  }
 ],
 "metadata": {
  "kernelspec": {
   "display_name": "Python 3 (ipykernel)",
   "language": "python",
   "name": "python3"
  },
  "language_info": {
   "codemirror_mode": {
    "name": "ipython",
    "version": 3
   },
   "file_extension": ".py",
   "mimetype": "text/x-python",
   "name": "python",
   "nbconvert_exporter": "python",
   "pygments_lexer": "ipython3",
   "version": "3.10.6"
  }
 },
 "nbformat": 4,
 "nbformat_minor": 5
}
