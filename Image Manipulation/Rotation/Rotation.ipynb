{
 "cells": [
  {
   "cell_type": "markdown",
   "id": "6e4160e6",
   "metadata": {},
   "source": [
    "# Rotation\n",
    "cv2.getRotationMateix2D(rotation_centre_x, rotation_centre_y, angle of rotation, scale)"
   ]
  },
  {
   "cell_type": "code",
   "execution_count": 1,
   "id": "623b1176",
   "metadata": {},
   "outputs": [],
   "source": [
    "import cv2\n",
    "import numpy as np"
   ]
  },
  {
   "cell_type": "code",
   "execution_count": 3,
   "id": "34addbc5",
   "metadata": {},
   "outputs": [],
   "source": [
    "image = cv2.imread('sample.JPG')\n",
    "\n",
    "height, width = image.shape[:2]\n",
    "\n",
    "#Dividing by 2 to rotate the image around its centre\n",
    "rotation_matrix = cv2.getRotationMatrix2D((width/2, height/2), 90, 2)\n",
    "\n",
    "rotated_image = cv2.warpAffine(image, rotation_matrix, (width, height))\n",
    "\n",
    "cv2.imshow('Image Rotated',rotated_image)\n",
    "cv2.waitKey(0)\n",
    "cv2.destroyAllWindows()\n"
   ]
  },
  {
   "cell_type": "code",
   "execution_count": null,
   "id": "d9db921f",
   "metadata": {},
   "outputs": [],
   "source": []
  }
 ],
 "metadata": {
  "kernelspec": {
   "display_name": "Python 3 (ipykernel)",
   "language": "python",
   "name": "python3"
  },
  "language_info": {
   "codemirror_mode": {
    "name": "ipython",
    "version": 3
   },
   "file_extension": ".py",
   "mimetype": "text/x-python",
   "name": "python",
   "nbconvert_exporter": "python",
   "pygments_lexer": "ipython3",
   "version": "3.10.6"
  }
 },
 "nbformat": 4,
 "nbformat_minor": 5
}
