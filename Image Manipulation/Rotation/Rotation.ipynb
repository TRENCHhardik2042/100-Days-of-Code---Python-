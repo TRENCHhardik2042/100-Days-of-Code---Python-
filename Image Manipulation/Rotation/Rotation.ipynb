{
 "cells": [
  {
   "cell_type": "markdown",
   "id": "44dc46a5",
   "metadata": {},
   "source": [
    "# Rotation\n",
    "cv2.getRotationMateix2D(rotation_centre_x, rotation_centre_y, angle of rotation, scale)"
   ]
  },
  {
   "cell_type": "code",
   "execution_count": 1,
   "id": "6de1aa57",
   "metadata": {},
   "outputs": [],
   "source": [
    "import cv2\n",
    "import numpy as np"
   ]
  },
  {
   "cell_type": "code",
   "execution_count": 2,
   "id": "30eb400d",
   "metadata": {},
   "outputs": [],
   "source": [
    "image = cv2.imread('sample.JPG')\n",
    "\n",
    "height, width = image.shape[:2]\n",
    "\n",
    "#Dividing by 2 to rotate the image around its centre\n",
    "rotation_matrix = cv2.getRotationMatrix2D((width/2, height/2), 90, 1)\n",
    "\n",
    "rotated_image = cv2.warpAffine(image, rotation_matrix, (width, height))\n",
    "\n",
    "cv2.imshow('Image Rotated',rotated_image)\n",
    "cv2.waitKey(0)\n",
    "cv2.destroyAllWindows()\n"
   ]
  },
  {
   "cell_type": "markdown",
   "id": "725218da",
   "metadata": {},
   "source": [
    "# How to remove the Black Background by using the transpose function\n"
   ]
  },
  {
   "cell_type": "code",
   "execution_count": 3,
   "id": "902ede68",
   "metadata": {},
   "outputs": [],
   "source": [
    "img = cv2.imread('sample.JPG')\n",
    "\n",
    "rotated_image = cv2.transpose(img)\n",
    "\n",
    "cv2.imshow('Image Rotated - 2',rotated_image)\n",
    "cv2.waitKey(0)\n",
    "cv2.destroyAllWindows()"
   ]
  },
  {
   "cell_type": "code",
   "execution_count": null,
   "id": "2b21bab3",
   "metadata": {},
   "outputs": [],
   "source": []
  }
 ],
 "metadata": {
  "kernelspec": {
   "display_name": "Python 3 (ipykernel)",
   "language": "python",
   "name": "python3"
  },
  "language_info": {
   "codemirror_mode": {
    "name": "ipython",
    "version": 3
   },
   "file_extension": ".py",
   "mimetype": "text/x-python",
   "name": "python",
   "nbconvert_exporter": "python",
   "pygments_lexer": "ipython3",
   "version": "3.10.6"
  }
 },
 "nbformat": 4,
 "nbformat_minor": 5
}
