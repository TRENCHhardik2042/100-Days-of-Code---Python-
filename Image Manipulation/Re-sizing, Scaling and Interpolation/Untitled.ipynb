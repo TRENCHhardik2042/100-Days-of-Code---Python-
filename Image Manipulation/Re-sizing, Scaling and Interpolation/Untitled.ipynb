{
 "cells": [
  {
   "cell_type": "code",
   "execution_count": null,
   "id": "43763017",
   "metadata": {},
   "outputs": [],
   "source": [
    "import numpy as np\n",
    "import cv2"
   ]
  },
  {
   "cell_type": "markdown",
   "id": "e598a5c6",
   "metadata": {},
   "source": [
    "# Re-sizing, Scaling and Inteprolation\n",
    "cv2.resize(image, dsize(output image size), x scale, y scale, interpolation)"
   ]
  },
  {
   "cell_type": "code",
   "execution_count": null,
   "id": "0272531d",
   "metadata": {},
   "outputs": [],
   "source": [
    "image = cv2.imread('sample.JPG')\n",
    "\n",
    "\n",
    "# scaling the image to 3/4th of its size\n",
    "image_scaled = cv2.resize(image, None, fx = 0.1, fy = 0.1)\n",
    "# here the interpolation method is linear by default\n",
    "cv2.imshow('Scaled', image_scaled)\n",
    "cv2.waitKey(0)\n",
    "\n",
    "\n",
    "\n",
    "image_scaled = cv2.resize(image, None, fx=2,fy=2,interpolation=cv2.INTER_CUBIC)\n",
    "cv2.imshow('Scaled-Cubic Interpolation', image_scaled)\n",
    "cv2.waitKey(0)\n",
    "\n",
    "\n",
    "# Resizing by setting exact dimensions \n",
    "image_scaled = cv2.resize(image, (160,90),interpolation=cv2.INTER_AREA)\n",
    "cv2.imshow('Scaled-Skewed Size', image_scaled)\n",
    "cv2.waitKey(0)\n",
    "\n",
    "\n",
    "cv2.destroyAllWindows()"
   ]
  },
  {
   "cell_type": "code",
   "execution_count": null,
   "id": "f7da4883",
   "metadata": {},
   "outputs": [],
   "source": []
  },
  {
   "cell_type": "code",
   "execution_count": null,
   "id": "dbe88c6e",
   "metadata": {},
   "outputs": [],
   "source": []
  }
 ],
 "metadata": {
  "kernelspec": {
   "display_name": "Python 3 (ipykernel)",
   "language": "python",
   "name": "python3"
  },
  "language_info": {
   "codemirror_mode": {
    "name": "ipython",
    "version": 3
   },
   "file_extension": ".py",
   "mimetype": "text/x-python",
   "name": "python",
   "nbconvert_exporter": "python",
   "pygments_lexer": "ipython3",
   "version": "3.10.6"
  }
 },
 "nbformat": 4,
 "nbformat_minor": 5
}
