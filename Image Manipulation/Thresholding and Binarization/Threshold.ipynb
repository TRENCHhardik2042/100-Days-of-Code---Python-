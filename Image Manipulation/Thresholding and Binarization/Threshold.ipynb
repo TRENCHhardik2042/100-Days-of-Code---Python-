{
 "cells": [
  {
   "cell_type": "code",
   "execution_count": 2,
   "id": "f109bc9f",
   "metadata": {},
   "outputs": [],
   "source": [
    "import cv2\n",
    "import numpy as np"
   ]
  },
  {
   "cell_type": "markdown",
   "id": "1c8b89ca",
   "metadata": {},
   "source": [
    "# Thresholding / Binarization\n"
   ]
  },
  {
   "cell_type": "code",
   "execution_count": 4,
   "id": "731c3e8f",
   "metadata": {},
   "outputs": [
    {
     "name": "stderr",
     "output_type": "stream",
     "text": [
      "2022-12-12 20:17:13.852 python[62980:3396585] Warning: Window move completed without beginning\n",
      "2022-12-12 20:17:15.134 python[62980:3396585] Warning: Window move completed without beginning\n",
      "2022-12-12 20:17:16.341 python[62980:3396585] Warning: Window move completed without beginning\n",
      "2022-12-12 20:17:17.830 python[62980:3396585] Warning: Window move completed without beginning\n",
      "2022-12-12 20:17:19.811 python[62980:3396585] Warning: Window move completed without beginning\n"
     ]
    }
   ],
   "source": [
    "image = cv2.imread('sample.png',0)\n",
    "cv2.imshow('Original Image',image)\n",
    "\n",
    "ret,thresh1 = cv2.threshold(image, 127, 255, cv2.THRESH_BINARY)\n",
    "cv2.imshow('Binary Thresh', thresh1)\n",
    "\n",
    "\n",
    "ret,thresh2 = cv2.threshold(image, 127, 255, cv2.THRESH_BINARY_INV)\n",
    "cv2.imshow('Binary Thresh Inverse', thresh2)\n",
    "\n",
    "\n",
    "ret,thresh3 = cv2.threshold(image, 127, 255, cv2.THRESH_TRUNC)\n",
    "cv2.imshow('Thresh Trunc', thresh3)\n",
    "\n",
    "\n",
    "ret,thresh4 = cv2.threshold(image, 127, 255, cv2.THRESH_TOZERO)\n",
    "cv2.imshow('THRESH TOZERO', thresh4)\n",
    "\n",
    "\n",
    "ret,thresh5 = cv2.threshold(image, 127, 255, cv2.THRESH_TOZERO_INV)\n",
    "cv2.imshow('THRESH TOZERO INVERSE', thresh5)\n",
    "\n",
    "cv2.waitKey(0)\n",
    "\n",
    "cv2.destroyAllWindows()"
   ]
  },
  {
   "cell_type": "code",
   "execution_count": 9,
   "id": "32a6f8d9",
   "metadata": {},
   "outputs": [],
   "source": [
    "image = cv2.imread('sample2.png',0)\n",
    "image = cv2.GaussianBlur(image,(3,3),0)\n",
    "\n",
    "athresh = cv2.adaptiveThreshold(image, 255, cv2.ADAPTIVE_THRESH_MEAN_C, cv2.THRESH_BINARY, 3, 5)\n",
    "cv2.imshow('Adaptive Threshold',athresh)\n",
    "cv2.waitKey(0)\n",
    "\n",
    "_, th2 = cv2.threshold(image, 0, 255, cv2.THRESH_BINARY, cv2.THRESH_OTSU)\n",
    "cv2.imshow('OTSU THRESH', athresh)\n",
    "cv2.waitKey(0)\n",
    "\n",
    "blur= cv2.GaussianBlur(image, (5,5),0)\n",
    "_, th3 = cv2.threshold(blur, 0 , 255, cv2.THRESH_BINARY+cv2.THRESH_OTSU)\n",
    "cv2.imshow('GAUSSIAN OTSU THRESH', athresh)\n",
    "cv2.waitKey(0)\n",
    "cv2.destroyAllWindows()"
   ]
  },
  {
   "cell_type": "code",
   "execution_count": null,
   "id": "b77d22d2",
   "metadata": {},
   "outputs": [],
   "source": []
  }
 ],
 "metadata": {
  "kernelspec": {
   "display_name": "Python 3 (ipykernel)",
   "language": "python",
   "name": "python3"
  },
  "language_info": {
   "codemirror_mode": {
    "name": "ipython",
    "version": 3
   },
   "file_extension": ".py",
   "mimetype": "text/x-python",
   "name": "python",
   "nbconvert_exporter": "python",
   "pygments_lexer": "ipython3",
   "version": "3.10.6"
  }
 },
 "nbformat": 4,
 "nbformat_minor": 5
}
