{
 "cells": [
  {
   "cell_type": "code",
   "execution_count": null,
   "id": "2f064d2c",
   "metadata": {},
   "outputs": [],
   "source": [
    "import cv2 \n",
    "import numpy as np"
   ]
  },
  {
   "cell_type": "code",
   "execution_count": null,
   "id": "0d975794",
   "metadata": {},
   "outputs": [],
   "source": [
    "image = cv2.imread('sample.png')\n",
    "\n",
    "# Create a matrix of ones, then multiply it by a scaler of 100\n",
    "# This gives us the same matrix as the dimension \n",
    "M = np.ones(image.shape, dtype = \"uint8\") *75\n",
    "\n",
    "# We use this to add this to our Matrix M, to our image\n",
    "# Notice the increase in brightness\n",
    "added = cv2.add(image,M)\n",
    "cv2.imshow('Added',added)\n",
    "\n",
    "\n",
    "added_exp = cv2.add(M,image)\n",
    "cv2.imshow('Added exp',added_exp)\n",
    "\n",
    "# Similarly with the subtraction\n",
    "# Notice the decrease in brightness\n",
    "subtract = cv2.subtract(image, M)\n",
    "cv2.imshow('Subtract', subtract)\n",
    "\n",
    "subtract_exp = cv2.subtract(M, image)\n",
    "cv2.imshow('Subtract-exp', subtract_exp)\n",
    "\n",
    "cv2.waitKey(0)\n",
    "cv2.destroyAllWindows()"
   ]
  },
  {
   "cell_type": "code",
   "execution_count": null,
   "id": "12016b02",
   "metadata": {},
   "outputs": [],
   "source": []
  }
 ],
 "metadata": {
  "kernelspec": {
   "display_name": "Python 3 (ipykernel)",
   "language": "python",
   "name": "python3"
  },
  "language_info": {
   "codemirror_mode": {
    "name": "ipython",
    "version": 3
   },
   "file_extension": ".py",
   "mimetype": "text/x-python",
   "name": "python",
   "nbconvert_exporter": "python",
   "pygments_lexer": "ipython3",
   "version": "3.10.6"
  }
 },
 "nbformat": 4,
 "nbformat_minor": 5
}
