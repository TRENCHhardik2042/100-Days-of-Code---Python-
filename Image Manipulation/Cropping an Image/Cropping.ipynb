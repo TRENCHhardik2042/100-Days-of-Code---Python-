{
 "cells": [
  {
   "cell_type": "markdown",
   "id": "3437168d",
   "metadata": {},
   "source": [
    "# Cropping an Image \n",
    "cropped = image [ start_row:end_row, start_column:end_column ]"
   ]
  },
  {
   "cell_type": "code",
   "execution_count": null,
   "id": "86712bdd",
   "metadata": {},
   "outputs": [],
   "source": [
    "import cv2\n",
    "import numpy as np\n"
   ]
  },
  {
   "cell_type": "code",
   "execution_count": null,
   "id": "b91e4d88",
   "metadata": {},
   "outputs": [],
   "source": [
    "image = cv2.imread('sample.png')\n",
    "\n",
    "height, width = image.shape[:2]\n",
    "\n",
    "start_row, start_col = int(height * 0.05), int(width*.15)\n",
    "\n",
    "end_row, end_col = int(height*0.75 ), int(width*0.9)\n",
    "\n",
    "cropped_image = image[start_row:end_row, start_col:end_col ]\n",
    "\n",
    "cv2.imshow('Orignal Image', image)\n",
    "cv2.waitKey(0)\n",
    "cv2.imshow('Cropped Image', cropped_image)\n",
    "cv2.waitKey(0)\n",
    "cv2.destroyAllWindows()\n"
   ]
  },
  {
   "cell_type": "code",
   "execution_count": null,
   "id": "80e5d442",
   "metadata": {},
   "outputs": [],
   "source": []
  }
 ],
 "metadata": {
  "kernelspec": {
   "display_name": "Python 3 (ipykernel)",
   "language": "python",
   "name": "python3"
  },
  "language_info": {
   "codemirror_mode": {
    "name": "ipython",
    "version": 3
   },
   "file_extension": ".py",
   "mimetype": "text/x-python",
   "name": "python",
   "nbconvert_exporter": "python",
   "pygments_lexer": "ipython3",
   "version": "3.10.6"
  }
 },
 "nbformat": 4,
 "nbformat_minor": 5
}
