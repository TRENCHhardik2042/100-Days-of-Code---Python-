{
 "cells": [
  {
   "cell_type": "markdown",
   "id": "e2d5744f",
   "metadata": {},
   "source": [
    "# Bitwise Operation and Masking\n"
   ]
  },
  {
   "cell_type": "code",
   "execution_count": null,
   "id": "5baf524f",
   "metadata": {},
   "outputs": [],
   "source": [
    "import cv2\n",
    "import numpy as np"
   ]
  },
  {
   "cell_type": "code",
   "execution_count": null,
   "id": "47570ca4",
   "metadata": {},
   "outputs": [],
   "source": [
    "# This is a greyscale image so we will be using 2dimensional array \n",
    "# If we are doing for any coloured image we'll be using \n",
    "# rectangle = np.zeros((300,300,3),np.uint8)\n",
    "\n",
    "\n",
    "# Making a square\n",
    "square = np.zeros((300,300),np.uint8)\n",
    "\n",
    "#cv2.rectangle(image, starting vertex, ending vertex, color, thickness)\n",
    "cv2.rectangle(square,(50,50),(250,250), 255, -2)\n",
    "cv2.imshow('Square', square)\n",
    "cv2.waitKey(0)\n",
    "\n",
    "#Making an Ellipse\n",
    "ellipse = np.zeros((300,300),np.uint8)\n",
    "# cv2.ellipse(image, center_coordinates, axesLength, angle, startAngle, endAngle, color, thickness)\n",
    "cv2.ellipse(ellipse, (150,150), (150,150), 30, 0, 180, 255, -1)\n",
    "cv2.imshow('Ellipse', ellipse)\n",
    "cv2.waitKey(0)\n",
    "\n",
    "\n",
    "cv2.destroyAllWindows()"
   ]
  },
  {
   "cell_type": "code",
   "execution_count": null,
   "id": "8ca46cb1",
   "metadata": {},
   "outputs": [],
   "source": [
    "And = cv2.bitwise_and(square,ellipse)\n",
    "cv2.imshow('AND', And)\n",
    "cv2.waitKey(0)\n",
    "\n",
    "Or = cv2.bitwise_or(square,ellipse)\n",
    "cv2.imshow('OR', Or)\n",
    "cv2.waitKey(0)\n",
    "\n",
    "XOR = cv2.bitwise_xor(square,ellipse)\n",
    "cv2.imshow('XOR', XOR)\n",
    "cv2.waitKey(0)\n",
    "\n",
    "NOT = cv2.bitwise_not(square,ellipse)\n",
    "cv2.imshow('NOT', NOT)\n",
    "cv2.waitKey(0)\n",
    "\n",
    "cv2.destroyAllWindows()"
   ]
  },
  {
   "cell_type": "code",
   "execution_count": null,
   "id": "323305e9",
   "metadata": {},
   "outputs": [],
   "source": []
  }
 ],
 "metadata": {
  "kernelspec": {
   "display_name": "Python 3 (ipykernel)",
   "language": "python",
   "name": "python3"
  },
  "language_info": {
   "codemirror_mode": {
    "name": "ipython",
    "version": 3
   },
   "file_extension": ".py",
   "mimetype": "text/x-python",
   "name": "python",
   "nbconvert_exporter": "python",
   "pygments_lexer": "ipython3",
   "version": "3.10.6"
  }
 },
 "nbformat": 4,
 "nbformat_minor": 5
}
