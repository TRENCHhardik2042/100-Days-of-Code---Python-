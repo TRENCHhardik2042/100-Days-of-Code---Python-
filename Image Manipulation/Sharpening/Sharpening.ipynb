{
 "cells": [
  {
   "cell_type": "code",
   "execution_count": 1,
   "id": "89dbe2f1",
   "metadata": {},
   "outputs": [],
   "source": [
    "import cv2\n",
    "import numpy as np\n"
   ]
  },
  {
   "cell_type": "code",
   "execution_count": 7,
   "id": "5d823400",
   "metadata": {},
   "outputs": [],
   "source": [
    "image = cv2.imread('sample.png')\n",
    "\n",
    "kernel_matrix = np.array([[-1,-1,-1],\n",
    "                          [-1, 9,-1],\n",
    "                         [-1,-1,-1]])\n",
    "sharp = cv2.filter2D(image, -1, kernel_matrix)\n",
    "\n",
    "\n",
    "cv2.imshow('Orignal Image',image)\n",
    "cv2.waitKey(0)\n",
    "\n",
    "cv2.imshow('Sharpened Image', sharp)\n",
    "cv2.waitKey(0)\n",
    "cv2.destroyAllWindows()"
   ]
  },
  {
   "cell_type": "code",
   "execution_count": null,
   "id": "ec69c31c",
   "metadata": {},
   "outputs": [],
   "source": []
  }
 ],
 "metadata": {
  "kernelspec": {
   "display_name": "Python 3 (ipykernel)",
   "language": "python",
   "name": "python3"
  },
  "language_info": {
   "codemirror_mode": {
    "name": "ipython",
    "version": 3
   },
   "file_extension": ".py",
   "mimetype": "text/x-python",
   "name": "python",
   "nbconvert_exporter": "python",
   "pygments_lexer": "ipython3",
   "version": "3.10.6"
  }
 },
 "nbformat": 4,
 "nbformat_minor": 5
}
