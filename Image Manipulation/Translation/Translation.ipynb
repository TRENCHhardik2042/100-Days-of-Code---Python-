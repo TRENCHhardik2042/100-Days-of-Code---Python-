{
 "cells": [
  {
   "cell_type": "markdown",
   "id": "4d5927b1",
   "metadata": {},
   "source": [
    "# Image Translation"
   ]
  },
  {
   "cell_type": "code",
   "execution_count": 1,
   "id": "8189be7f",
   "metadata": {},
   "outputs": [],
   "source": [
    "import numpy as np \n",
    "import cv2"
   ]
  },
  {
   "cell_type": "code",
   "execution_count": 2,
   "id": "a7c923f6",
   "metadata": {},
   "outputs": [],
   "source": [
    "image = cv2.imread('sample.JPG')\n",
    "\n",
    "height, width = image.shape[:2]\n",
    "\n",
    "quarter_height, quarter_width= height/4, width/4\n",
    "\n",
    "# Translation matrix looks like T = [1 0 Tx]\n",
    "#                                   [0 1 Ty]\n",
    "\n",
    "T = np.float32([[1,0,quarter_width],[0,1,quarter_height]])\n",
    "# creation on T matrix \n",
    "\n",
    "# we use warpAffine to transform our image into a T matrix\n",
    "img_translation = cv2.warpAffine(image, T, (height, width))\n",
    "\n",
    "cv2.imshow('Translation',img_translation)\n",
    "cv2.waitKey(0)\n",
    "cv2.destroyAllWindows()\n"
   ]
  },
  {
   "cell_type": "code",
   "execution_count": 4,
   "id": "8935992e",
   "metadata": {},
   "outputs": [
    {
     "name": "stdout",
     "output_type": "stream",
     "text": [
      "[[1.0e+00 0.0e+00 1.0e+03]\n",
      " [0.0e+00 1.0e+00 1.5e+03]]\n"
     ]
    }
   ],
   "source": [
    "print (T)"
   ]
  },
  {
   "cell_type": "code",
   "execution_count": null,
   "id": "44eda215",
   "metadata": {},
   "outputs": [],
   "source": []
  }
 ],
 "metadata": {
  "kernelspec": {
   "display_name": "Python 3 (ipykernel)",
   "language": "python",
   "name": "python3"
  },
  "language_info": {
   "codemirror_mode": {
    "name": "ipython",
    "version": 3
   },
   "file_extension": ".py",
   "mimetype": "text/x-python",
   "name": "python",
   "nbconvert_exporter": "python",
   "pygments_lexer": "ipython3",
   "version": "3.10.6"
  }
 },
 "nbformat": 4,
 "nbformat_minor": 5
}
