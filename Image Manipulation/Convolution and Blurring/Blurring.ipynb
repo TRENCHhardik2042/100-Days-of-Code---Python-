{
 "cells": [
  {
   "cell_type": "code",
   "execution_count": null,
   "id": "3d6c02d5",
   "metadata": {},
   "outputs": [],
   "source": [
    "import cv2\n",
    "import numpy as np"
   ]
  },
  {
   "cell_type": "code",
   "execution_count": null,
   "id": "c4615c69",
   "metadata": {},
   "outputs": [],
   "source": [
    "image = cv2.imread('sample.png')\n",
    "\n",
    "# Averaging Blur\n",
    "blr = cv2.blur(image,(3,3))\n",
    "cv2.imshow('Averaging', blr)\n",
    "cv2.waitKey(0)\n",
    "\n",
    "#Gaussian Blur\n",
    "Gaus = cv2.GaussianBlur(image, (7,7), 0)\n",
    "cv2.imshow('Gaussian Blurring', Gaus)\n",
    "cv2.waitKey(0)\n",
    "\n",
    "#Median Blurring\n",
    "Med = cv2.medianBlur(image,5)\n",
    "cv2.imshow('Median Blurring', Med)\n",
    "cv2.waitKey(0)\n",
    "\n",
    "#Bilateral Blurring\n",
    "Bilateral = cv2.bilateralFilter(image, 9, 75,75)\n",
    "cv2.imshow('Bilateral Blurring', Bilateral)\n",
    "cv2.waitKey(0)\n",
    "cv2.destroyAllWindows()"
   ]
  },
  {
   "cell_type": "markdown",
   "id": "18981b56",
   "metadata": {},
   "source": [
    "# Image de-noising - Non-local means denoising\n",
    "\n"
   ]
  },
  {
   "cell_type": "code",
   "execution_count": null,
   "id": "509ef707",
   "metadata": {},
   "outputs": [],
   "source": [
    "dst = cv2.fastNlMeansDenoisingColored(image,None, 6,6,7,21)\n",
    "cv2.imshow('Denoised Image',dst)\n",
    "cv2.waitKey(0)\n",
    "cv2.destroyAllWindows()"
   ]
  },
  {
   "cell_type": "code",
   "execution_count": null,
   "id": "29bcb418",
   "metadata": {},
   "outputs": [],
   "source": []
  }
 ],
 "metadata": {
  "kernelspec": {
   "display_name": "Python 3 (ipykernel)",
   "language": "python",
   "name": "python3"
  },
  "language_info": {
   "codemirror_mode": {
    "name": "ipython",
    "version": 3
   },
   "file_extension": ".py",
   "mimetype": "text/x-python",
   "name": "python",
   "nbconvert_exporter": "python",
   "pygments_lexer": "ipython3",
   "version": "3.10.6"
  }
 },
 "nbformat": 4,
 "nbformat_minor": 5
}
