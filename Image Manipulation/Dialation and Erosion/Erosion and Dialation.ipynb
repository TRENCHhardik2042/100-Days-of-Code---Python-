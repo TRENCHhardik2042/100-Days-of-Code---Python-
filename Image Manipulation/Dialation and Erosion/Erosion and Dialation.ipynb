{
 "cells": [
  {
   "cell_type": "code",
   "execution_count": 1,
   "id": "015458a5",
   "metadata": {},
   "outputs": [],
   "source": [
    "import cv2\n",
    "import numpy as np"
   ]
  },
  {
   "cell_type": "code",
   "execution_count": 3,
   "id": "1f4d538f",
   "metadata": {},
   "outputs": [
    {
     "ename": "SystemError",
     "evalue": "<built-in function destroyAllWindows> returned NULL without setting an exception",
     "output_type": "error",
     "traceback": [
      "\u001b[0;31m---------------------------------------------------------------------------\u001b[0m",
      "\u001b[0;31mSystemError\u001b[0m                               Traceback (most recent call last)",
      "Cell \u001b[0;32mIn [3], line 29\u001b[0m\n\u001b[1;32m     26\u001b[0m cv2\u001b[38;5;241m.\u001b[39mimshow(\u001b[38;5;124m'\u001b[39m\u001b[38;5;124mClosing\u001b[39m\u001b[38;5;124m'\u001b[39m, cl)\n\u001b[1;32m     27\u001b[0m cv2\u001b[38;5;241m.\u001b[39mwaitKey(\u001b[38;5;241m0\u001b[39m)\n\u001b[0;32m---> 29\u001b[0m \u001b[43mcv2\u001b[49m\u001b[38;5;241;43m.\u001b[39;49m\u001b[43mdestroyAllWindows\u001b[49m\u001b[43m(\u001b[49m\u001b[38;5;241;43m1\u001b[39;49m\u001b[43m)\u001b[49m\n",
      "\u001b[0;31mSystemError\u001b[0m: <built-in function destroyAllWindows> returned NULL without setting an exception"
     ]
    }
   ],
   "source": [
    "image = cv2.imread('sample2.png')\n",
    "\n",
    "cv2.imshow('Orignal Image', image)\n",
    "cv2.waitKey(0)\n",
    "\n",
    "# Defining kernel size\n",
    "kernel = np.ones((5,5), np.uint8)\n",
    "\n",
    "# Now we perform erosion \n",
    "erode = cv2.erode(image, kernel, iterations = 1)\n",
    "cv2.imshow('Erosion', erode)\n",
    "cv2.waitKey(0)\n",
    "\n",
    "# Dialation\n",
    "dialate = cv2.dilate(image, kernel, iterations=1)\n",
    "cv2.imshow('Dialtion', dialate)\n",
    "cv2.waitKey(0)\n",
    "\n",
    "#Opening\n",
    "op = cv2.morphologyEx(image, cv2.MORPH_OPEN, kernel)\n",
    "cv2.imshow('Opening', op)\n",
    "cv2.waitKey()\n",
    "\n",
    "#Closing\n",
    "cl = cv2.morphologyEx(image, cv2.MORPH_CLOSE, kernel)\n",
    "cv2.imshow('Closing', cl)\n",
    "cv2.waitKey(0)\n",
    "\n",
    "cv2.destroyAllWindows(1)"
   ]
  },
  {
   "cell_type": "code",
   "execution_count": null,
   "id": "34fe3ad9",
   "metadata": {},
   "outputs": [],
   "source": []
  }
 ],
 "metadata": {
  "kernelspec": {
   "display_name": "Python 3 (ipykernel)",
   "language": "python",
   "name": "python3"
  },
  "language_info": {
   "codemirror_mode": {
    "name": "ipython",
    "version": 3
   },
   "file_extension": ".py",
   "mimetype": "text/x-python",
   "name": "python",
   "nbconvert_exporter": "python",
   "pygments_lexer": "ipython3",
   "version": "3.10.6"
  }
 },
 "nbformat": 4,
 "nbformat_minor": 5
}
