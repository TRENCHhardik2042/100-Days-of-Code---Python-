{
 "cells": [
  {
   "cell_type": "markdown",
   "id": "ae496491",
   "metadata": {},
   "source": [
    "# Pyramiding Image \n",
    "cv2.pyrDown(image)\n",
    "cv2.pyrUp(image)"
   ]
  },
  {
   "cell_type": "code",
   "execution_count": 1,
   "id": "3fb4ac19",
   "metadata": {},
   "outputs": [],
   "source": [
    "import cv2"
   ]
  },
  {
   "cell_type": "code",
   "execution_count": null,
   "id": "7a451512",
   "metadata": {},
   "outputs": [
    {
     "name": "stderr",
     "output_type": "stream",
     "text": [
      "2022-11-14 15:00:59.438 python[32904:1739461] Warning: Window move completed without beginning\n",
      "2022-11-14 15:01:00.984 python[32904:1739461] Warning: Window move completed without beginning\n"
     ]
    }
   ],
   "source": [
    "image = cv2.imread('sample.png')\n",
    "\n",
    "smaller = cv2.pyrDown(image)\n",
    "larger = cv2.pyrUp(smaller)\n",
    "\n",
    "cv2.imshow('Orignal', image)\n",
    "cv2.imshow('Larger',larger)\n",
    "cv2.imshow('Smaller', smaller)\n",
    "\n",
    "cv2.waitKey(0)\n",
    "cv2.destroyAllWindows()\n"
   ]
  },
  {
   "cell_type": "code",
   "execution_count": null,
   "id": "c51e8ff5",
   "metadata": {},
   "outputs": [],
   "source": []
  }
 ],
 "metadata": {
  "kernelspec": {
   "display_name": "Python 3 (ipykernel)",
   "language": "python",
   "name": "python3"
  },
  "language_info": {
   "codemirror_mode": {
    "name": "ipython",
    "version": 3
   },
   "file_extension": ".py",
   "mimetype": "text/x-python",
   "name": "python",
   "nbconvert_exporter": "python",
   "pygments_lexer": "ipython3",
   "version": "3.10.6"
  }
 },
 "nbformat": 4,
 "nbformat_minor": 5
}
