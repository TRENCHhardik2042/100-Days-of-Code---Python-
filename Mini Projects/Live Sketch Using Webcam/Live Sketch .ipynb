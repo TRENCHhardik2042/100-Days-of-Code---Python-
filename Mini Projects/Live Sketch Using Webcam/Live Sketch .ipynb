{
 "cells": [
  {
   "cell_type": "code",
   "execution_count": 1,
   "id": "0958ac57",
   "metadata": {},
   "outputs": [],
   "source": [
    "import cv2\n",
    "import numpy as np"
   ]
  },
  {
   "cell_type": "code",
   "execution_count": 5,
   "id": "e87041cc",
   "metadata": {},
   "outputs": [],
   "source": [
    "# Defining a sketch function where the input video will be processed and returend\n",
    "def sketch(image):\n",
    "    # Cnverting into greyscale\n",
    "    img_gray = cv2.cvtColor(image, cv2.COLOR_BGR2GRAY)\n",
    "    \n",
    "    # Cleaning the image using Gaussian Blur\n",
    "    img_gaus = cv2.GaussianBlur(img_gray,(5,5),0)\n",
    "    \n",
    "    #Exctracting the edges using canny algorithm\n",
    "    canny_edges= cv2.Canny(img_gaus,10,70)\n",
    "    \n",
    "    # invert binarizing the image\n",
    "    ret,mask = cv2.threshold(canny_edges,70,255,cv2.THRESH_BINARY_INV)\n",
    "    return mask\n",
    "\n",
    "\n",
    "\n",
    "# Initializing the webcam \n",
    "# ret is a boolean which indicates whether it was successful or not\n",
    "\n",
    "cap=cv2.VideoCapture(0)\n",
    "\n",
    "\n",
    "while True:\n",
    "    ret,frame = cap.read()\n",
    "    cv2.imshow('Live Sketch App', sketch(frame))\n",
    "    if cv2.waitKey(1) == 13:\n",
    "        break\n",
    "        \n",
    "        \n",
    "# Releasing the Webcam        \n",
    "cap.release()\n",
    "cv2.destroyAllWindows()"
   ]
  }
 ],
 "metadata": {
  "kernelspec": {
   "display_name": "Python 3 (ipykernel)",
   "language": "python",
   "name": "python3"
  },
  "language_info": {
   "codemirror_mode": {
    "name": "ipython",
    "version": 3
   },
   "file_extension": ".py",
   "mimetype": "text/x-python",
   "name": "python",
   "nbconvert_exporter": "python",
   "pygments_lexer": "ipython3",
   "version": "3.10.6"
  }
 },
 "nbformat": 4,
 "nbformat_minor": 5
}
