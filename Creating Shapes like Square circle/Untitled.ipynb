{
 "cells": [
  {
   "cell_type": "code",
   "execution_count": 1,
   "id": "ccae187c",
   "metadata": {},
   "outputs": [],
   "source": [
    "import numpy as np \n",
    "import cv2"
   ]
  },
  {
   "cell_type": "markdown",
   "id": "37af4bfa",
   "metadata": {},
   "source": [
    "# Creating a black image and a square"
   ]
  },
  {
   "cell_type": "code",
   "execution_count": 2,
   "id": "4ec155d5",
   "metadata": {},
   "outputs": [],
   "source": [
    "image = np.zeros((512,512,3),np.uint8)\n",
    "\n",
    "image_bw = np.zeros((512,512),np.uint8)\n",
    "\n",
    "cv2.imshow('Black Rectangle 1',image)\n",
    "cv2.imshow('Black Rectangle 2',image_bw)\n",
    "\n",
    "cv2.waitKey(0)\n",
    "cv2.destroyAllWindows()"
   ]
  },
  {
   "cell_type": "markdown",
   "id": "de53aee9",
   "metadata": {},
   "source": [
    "# Drawing Line over the Black Square Image\n",
    "cv2.line(image, starting vertex, ending vertex, color, thickness)"
   ]
  },
  {
   "cell_type": "code",
   "execution_count": 3,
   "id": "928fa626",
   "metadata": {},
   "outputs": [],
   "source": [
    "# Drawing a diagonal blue line across the black image \n",
    "image = np.zeros((512,512,3),np.uint8)\n",
    "\n",
    "cv2.line(image, (0,0), (511,511), (255,255,0), 5)\n",
    "\n",
    "cv2.imshow('Line',image)\n",
    "cv2.waitKey(0)\n",
    "cv2.destroyAllWindows()"
   ]
  },
  {
   "cell_type": "markdown",
   "id": "548d1a72",
   "metadata": {},
   "source": [
    "# Drawing a Rectangle in a Black Square\n",
    "cv2.rectangle(image, starting vertex, ending vertex, color, thickness)"
   ]
  },
  {
   "cell_type": "code",
   "execution_count": 8,
   "id": "0bd747d0",
   "metadata": {},
   "outputs": [],
   "source": [
    "image = np.zeros((512,512,3),np.uint8)\n",
    "\n",
    "cv2.rectangle(image, (10,10), (402,402), (25,123,0), -1)\n",
    "\n",
    "# giving a negative thickness will result in filling the shape , while giving a positivve thickness will reuslt in a line like figure\n",
    "\n",
    "cv2.imshow('Rectangle',image)\n",
    "cv2.waitKey(0)\n",
    "cv2.destroyAllWindows()"
   ]
  },
  {
   "cell_type": "markdown",
   "id": "a73a3317",
   "metadata": {},
   "source": [
    "# Drawing a Circle \n",
    "cv2.circle(image, centre, radius, color, fill)"
   ]
  },
  {
   "cell_type": "code",
   "execution_count": 12,
   "id": "16a13f92",
   "metadata": {},
   "outputs": [],
   "source": [
    "image = np.zeros((512,512,3), np.uint8)\n",
    "\n",
    "cv2.circle(image, (300,300), 200, (400,300,250), -1)\n",
    "\n",
    "cv2.imshow('Circle', image)\n",
    "cv2.waitKey(0)\n",
    "cv2.destroyAllWindows()\n"
   ]
  },
  {
   "cell_type": "markdown",
   "id": "eadfb07e",
   "metadata": {},
   "source": [
    "# Polygons\n",
    "cv2.polylines( image, points, whether polygon is closed or not, color, thickness)\n"
   ]
  },
  {
   "cell_type": "code",
   "execution_count": 14,
   "id": "091412af",
   "metadata": {},
   "outputs": [],
   "source": [
    "# We need to predifne the points that will be required to create a polyogn\n",
    "image = np.zeros((512,512,3), np.uint8)\n",
    "\n",
    "#define our points\n",
    "pts = np.array( [ [10,50], [200,400], [300,30], [40,200], [500,10] ], np.int32 )\n",
    "\n",
    "# Reshaping our points in the form that is required by the polyline function\n",
    "pts = pts.reshape((-1,1,2))\n",
    "\n",
    "cv2.polylines(image, [pts], True, (0,0,300), 3)\n",
    "\n",
    "cv2.imshow('Polygon', image)\n",
    "cv2.waitKey(0)\n",
    "cv2.destroyAllWindows()\n"
   ]
  },
  {
   "cell_type": "markdown",
   "id": "5af66d68",
   "metadata": {},
   "source": [
    "# Adding text to image\n",
    "cv2.putText(image, 'Text to Display', bottom left starting point, Font, Font size, Color, Thickness)"
   ]
  },
  {
   "cell_type": "code",
   "execution_count": null,
   "id": "c0f5abc1",
   "metadata": {},
   "outputs": [],
   "source": [
    "image = np.zeros((512,512,3), np.uint8)\n",
    "\n",
    "cv2.putText(image, 'Hello World!', (20,250), cv2.FONT_HERSHEY_SCRIPT_COMPLEX, 2, (100,300,400), 1)\n",
    "\n",
    "\n",
    "cv2.imshow('Hello World!', image)\n",
    "cv2.waitKey(0)\n",
    "cv2.destroyAllWindows()\n"
   ]
  },
  {
   "cell_type": "code",
   "execution_count": null,
   "id": "59cfb4a2",
   "metadata": {},
   "outputs": [],
   "source": []
  }
 ],
 "metadata": {
  "kernelspec": {
   "display_name": "Python 3 (ipykernel)",
   "language": "python",
   "name": "python3"
  },
  "language_info": {
   "codemirror_mode": {
    "name": "ipython",
    "version": 3
   },
   "file_extension": ".py",
   "mimetype": "text/x-python",
   "name": "python",
   "nbconvert_exporter": "python",
   "pygments_lexer": "ipython3",
   "version": "3.10.6"
  }
 },
 "nbformat": 4,
 "nbformat_minor": 5
}
