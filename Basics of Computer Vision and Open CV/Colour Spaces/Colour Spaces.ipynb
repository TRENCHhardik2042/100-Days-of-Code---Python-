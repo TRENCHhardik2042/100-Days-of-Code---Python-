{
 "cells": [
  {
   "cell_type": "code",
   "execution_count": 1,
   "id": "5235674a",
   "metadata": {},
   "outputs": [],
   "source": [
    "import cv2\n",
    "import numpy as np\n"
   ]
  },
  {
   "cell_type": "code",
   "execution_count": 2,
   "id": "9a71ae42",
   "metadata": {},
   "outputs": [],
   "source": [
    "img = cv2.imread('sample.JPG')"
   ]
  },
  {
   "cell_type": "code",
   "execution_count": 3,
   "id": "7fb9e0b0",
   "metadata": {},
   "outputs": [
    {
     "name": "stdout",
     "output_type": "stream",
     "text": [
      "74 99 155\n",
      "(6000, 4000, 3)\n"
     ]
    }
   ],
   "source": [
    "#indexing the values of first 0,0 pixels location into BGR\n",
    "B,G,R=img[0,0]\n",
    "print (B,G,R)\n",
    "print (img.shape)"
   ]
  },
  {
   "cell_type": "code",
   "execution_count": 4,
   "id": "cd7f2310",
   "metadata": {},
   "outputs": [
    {
     "name": "stdout",
     "output_type": "stream",
     "text": [
      "(6000, 4000)\n",
      "113\n"
     ]
    }
   ],
   "source": [
    "grey_img = cv2.cvtColor(img, cv2.COLOR_BGR2GRAY)\n",
    "print(grey_img.shape)\n",
    "print(grey_img[0,0])"
   ]
  },
  {
   "cell_type": "markdown",
   "id": "74de1d79",
   "metadata": {},
   "source": [
    "# Exploring into individual HSV Channels"
   ]
  },
  {
   "cell_type": "code",
   "execution_count": 5,
   "id": "e27c8cf1",
   "metadata": {},
   "outputs": [
    {
     "name": "stderr",
     "output_type": "stream",
     "text": [
      "2022-11-11 17:15:21.210 python[11822:487316] Warning: Window move completed without beginning\n",
      "2022-11-11 17:15:22.613 python[11822:487316] Warning: Window move completed without beginning\n",
      "2022-11-11 17:15:24.588 python[11822:487316] Warning: Window move completed without beginning\n"
     ]
    }
   ],
   "source": [
    "image = cv2.imread('sample.JPG')\n",
    "\n",
    "hsv_img = cv2.cvtColor(img,cv2.COLOR_BGR2HSV)\n",
    "\n",
    "cv2.imshow('HSV image',hsv_img)\n",
    "cv2.imshow('HUE channel',hsv_img[:,:,0])\n",
    "cv2.imshow('Saturation channel',hsv_img[:,:,1])\n",
    "cv2.imshow('Value channel',hsv_img[:,:,2])\n",
    "\n",
    "cv2.waitKey(0)\n",
    "cv2.destroyAllWindows()\n",
    "\n",
    "# hsv_img[:,:,0] , here '[:,:,0]' denotes that for all the pixels show the HUE channel , similarly for [:,:,1] the Saturation values will be show and for [:,:,2] the Value channel will be shown\n",
    "\n",
    "\n",
    "# the HUE channel is completely dark , where as the Saturation channel is greyscale version with brightness and the Value channel is similar to Greyscale version\n",
    "\n",
    "\n"
   ]
  },
  {
   "cell_type": "markdown",
   "id": "2e743708",
   "metadata": {},
   "source": [
    "# Exploring at individual channels in RGB "
   ]
  },
  {
   "cell_type": "code",
   "execution_count": null,
   "id": "99b2b8cd",
   "metadata": {},
   "outputs": [
    {
     "name": "stdout",
     "output_type": "stream",
     "text": [
      "(6000, 4000)\n"
     ]
    }
   ],
   "source": [
    "rgb_image = cv2.imread('sample.JPG')\n",
    "\n",
    "# .split basically splits the RGB data of the image into BGR \n",
    "B,G,R = cv2.split(rgb_image)\n",
    "\n",
    "print(B.shape)\n",
    "cv2.imshow('Blue',B)\n",
    "cv2.imshow('Green',G)\n",
    "cv2.imshow('Red',R)\n",
    "\n",
    "cv2.waitKey(0)\n",
    "cv2.destroyAllWindows()\n",
    "\n",
    "\n",
    "# mering the BGR and constructing the orignal image\n",
    "merged = cv2.merge([B,G,R])\n",
    "cv2.imshow('BGR merged',merged)\n",
    "\n",
    "#Amplifying a particular colour code\n",
    "amplify = cv2.merge([B+50,G,R])\n",
    "cv2.imshow('Amplify',amplify)\n",
    "\n",
    "cv2.waitKey(0)\n",
    "cv2.destroyAllWindows()\n",
    "\n"
   ]
  },
  {
   "cell_type": "code",
   "execution_count": 8,
   "id": "e9734522",
   "metadata": {},
   "outputs": [],
   "source": [
    "# from the above exploration , RGB were obtained in greyscale version as there was only single dimension value which is detected as grescale image\n",
    "# so to convert the greyscale to RGB format we can do it by creating an array with zeros filled but merging the RGB values at the appropriate location\n",
    "\n",
    "import numpy as np\n",
    "\n",
    "B,G,R = cv2.split(image)\n",
    "\n",
    "#creating a matrix with zeros with the dimension h x w\n",
    "\n",
    "zeros = np.zeros(image.shape[:2], dtype = \"uint8\")\n",
    "\n",
    "cv2.imshow('Red', cv2.merge([zeros,zeros,R]))\n",
    "cv2.imshow('Green', cv2.merge([zeros,G,zeros]))\n",
    "cv2.imshow('Blue', cv2.merge([B,zeros,zeros]))\n",
    "\n",
    "\n",
    "cv2.waitKey(0)\n",
    "cv2.destroyAllWindows()\n"
   ]
  },
  {
   "cell_type": "code",
   "execution_count": null,
   "id": "06df5331",
   "metadata": {},
   "outputs": [],
   "source": []
  }
 ],
 "metadata": {
  "kernelspec": {
   "display_name": "Python 3 (ipykernel)",
   "language": "python",
   "name": "python3"
  },
  "language_info": {
   "codemirror_mode": {
    "name": "ipython",
    "version": 3
   },
   "file_extension": ".py",
   "mimetype": "text/x-python",
   "name": "python",
   "nbconvert_exporter": "python",
   "pygments_lexer": "ipython3",
   "version": "3.10.6"
  }
 },
 "nbformat": 4,
 "nbformat_minor": 5
}
