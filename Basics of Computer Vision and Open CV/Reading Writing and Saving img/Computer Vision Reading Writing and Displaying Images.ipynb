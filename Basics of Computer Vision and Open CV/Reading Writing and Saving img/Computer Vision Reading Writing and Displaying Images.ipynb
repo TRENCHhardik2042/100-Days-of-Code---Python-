{
 "cells": [
  {
   "cell_type": "code",
   "execution_count": 1,
   "id": "9487551f",
   "metadata": {},
   "outputs": [],
   "source": [
    "import cv2\n",
    "import numpy as np"
   ]
  },
  {
   "cell_type": "code",
   "execution_count": 2,
   "id": "f3355b6f",
   "metadata": {},
   "outputs": [],
   "source": [
    "input = cv2.imread('Watch-web site-sample.png')\n",
    "\n",
    "cv2.imshow('Hello World',input)\n",
    "\n",
    "cv2.waitKey(0)\n",
    "#the waitkey waits for us to press any key\n",
    "\n",
    "\n",
    "cv2.destroyAllWindows()\n",
    "\n",
    "#destroys all the windows , FAILURE TO PLACE THIS WILL CAUSE THE PROGRAM TO HANG\n",
    "\n"
   ]
  },
  {
   "cell_type": "code",
   "execution_count": null,
   "id": "3f705d74",
   "metadata": {},
   "outputs": [],
   "source": [
    "print (input.shape)\n",
    "\n",
    "#printing the dimension of array and learning about the image's (L,W,RGB)"
   ]
  },
  {
   "cell_type": "code",
   "execution_count": null,
   "id": "70b3c71a",
   "metadata": {},
   "outputs": [],
   "source": [
    "#printing the dimesnions of the image which is stored in the array by calling the specific values in array\n",
    "\n",
    "print('Height of the Image:',input.shape[0],'pixels')\n",
    "print('Width of the Image:',input.shape[1],'pixels')"
   ]
  },
  {
   "cell_type": "code",
   "execution_count": null,
   "id": "4d287f84",
   "metadata": {},
   "outputs": [],
   "source": [
    "#saving the files in different filetypes \n",
    "cv2.imwrite('output.jpg',input)\n",
    "cv2.imwrite('output.png',input)"
   ]
  },
  {
   "cell_type": "code",
   "execution_count": null,
   "id": "ed9ef650",
   "metadata": {},
   "outputs": [],
   "source": []
  },
  {
   "cell_type": "code",
   "execution_count": null,
   "id": "47d8afeb",
   "metadata": {},
   "outputs": [],
   "source": []
  }
 ],
 "metadata": {
  "kernelspec": {
   "display_name": "Python 3 (ipykernel)",
   "language": "python",
   "name": "python3"
  },
  "language_info": {
   "codemirror_mode": {
    "name": "ipython",
    "version": 3
   },
   "file_extension": ".py",
   "mimetype": "text/x-python",
   "name": "python",
   "nbconvert_exporter": "python",
   "pygments_lexer": "ipython3",
   "version": "3.10.6"
  }
 },
 "nbformat": 4,
 "nbformat_minor": 5
}
